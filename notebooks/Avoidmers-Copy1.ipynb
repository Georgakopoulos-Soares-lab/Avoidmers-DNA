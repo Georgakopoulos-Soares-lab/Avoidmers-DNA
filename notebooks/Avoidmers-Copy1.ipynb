{
 "cells": [
  {
   "cell_type": "code",
   "execution_count": 2,
   "id": "c3495bbb-836b-4dba-ac78-316925f5f7e0",
   "metadata": {},
   "outputs": [],
   "source": [
    "import pandas as pd\n",
    "from pathlib import Path\n",
    "# import dask.dataframe as dd\n",
    "import warnings\n",
    "from tqdm import tqdm\n",
    "\n",
    "warnings.filterwarnings('ignore')"
   ]
  },
  {
   "cell_type": "code",
   "execution_count": 3,
   "id": "c30fe7b5-7721-4d32-924b-e2bc613b37ea",
   "metadata": {},
   "outputs": [],
   "source": [
    "path = Path(\"/storage/group/izg5139/default/DNA-Avoidmers/patterns/pattern_merged_abacaba\")"
   ]
  },
  {
   "cell_type": "code",
   "execution_count": 4,
   "id": "e2f2ae4c-8bae-4a13-828e-91d2b39b49a4",
   "metadata": {},
   "outputs": [
    {
     "data": {
      "text/plain": [
       "0"
      ]
     },
     "execution_count": 4,
     "metadata": {},
     "output_type": "execute_result"
    }
   ],
   "source": [
    "extracted = [f for f in path.glob(\"*.all_seqs.txt\")]\n",
    "len(extracted)"
   ]
  },
  {
   "cell_type": "code",
   "execution_count": 5,
   "id": "4f5706c1-1f58-4b0e-9706-07006be1fd60",
   "metadata": {},
   "outputs": [
    {
     "data": {
      "text/plain": [
       "dict_keys([])"
      ]
     },
     "execution_count": 5,
     "metadata": {},
     "output_type": "execute_result"
    }
   ],
   "source": [
    "model_organisms = {f.name.split(\"_\")[0] if not f.name.startswith(\"GC\") else '_'.join(f.name.split(\"_\")[:2]): f for f in extracted}\n",
    "model_organisms.keys()"
   ]
  },
  {
   "cell_type": "code",
   "execution_count": 15,
   "id": "8790d74d-adb0-43b9-8455-308e3838b08e",
   "metadata": {},
   "outputs": [
    {
     "name": "stderr",
     "output_type": "stream",
     "text": [
      "100%|██████████| 10/10 [02:40<00:00, 16.10s/it]\n"
     ]
    },
    {
     "data": {
      "text/html": [
       "<div>\n",
       "<style scoped>\n",
       "    .dataframe tbody tr th:only-of-type {\n",
       "        vertical-align: middle;\n",
       "    }\n",
       "\n",
       "    .dataframe tbody tr th {\n",
       "        vertical-align: top;\n",
       "    }\n",
       "\n",
       "    .dataframe thead th {\n",
       "        text-align: right;\n",
       "    }\n",
       "</style>\n",
       "<table border=\"1\" class=\"dataframe\">\n",
       "  <thead>\n",
       "    <tr style=\"text-align: right;\">\n",
       "      <th></th>\n",
       "      <th>seqID</th>\n",
       "      <th>start</th>\n",
       "      <th>end</th>\n",
       "      <th>sequence</th>\n",
       "      <th>length</th>\n",
       "      <th>type</th>\n",
       "      <th>organism</th>\n",
       "    </tr>\n",
       "  </thead>\n",
       "  <tbody>\n",
       "    <tr>\n",
       "      <th>0</th>\n",
       "      <td>NC_002695.2</td>\n",
       "      <td>373</td>\n",
       "      <td>423</td>\n",
       "      <td>cggtacatcagtggcaaatgcagaacgttttctgcgggttgccgat...</td>\n",
       "      <td>50</td>\n",
       "      <td>abacaba</td>\n",
       "      <td>GCF_000008865.2</td>\n",
       "    </tr>\n",
       "    <tr>\n",
       "      <th>1</th>\n",
       "      <td>NC_002695.2</td>\n",
       "      <td>776</td>\n",
       "      <td>848</td>\n",
       "      <td>ggtcacaacgttaccgttatcgatccggtcgaaaaactgctggcag...</td>\n",
       "      <td>72</td>\n",
       "      <td>abacaba</td>\n",
       "      <td>GCF_000008865.2</td>\n",
       "    </tr>\n",
       "    <tr>\n",
       "      <th>2</th>\n",
       "      <td>NC_002695.2</td>\n",
       "      <td>777</td>\n",
       "      <td>848</td>\n",
       "      <td>gtcacaacgttaccgttatcgatccggtcgaaaaactgctggcagt...</td>\n",
       "      <td>71</td>\n",
       "      <td>abacaba</td>\n",
       "      <td>GCF_000008865.2</td>\n",
       "    </tr>\n",
       "    <tr>\n",
       "      <th>3</th>\n",
       "      <td>NC_002695.2</td>\n",
       "      <td>778</td>\n",
       "      <td>848</td>\n",
       "      <td>tcacaacgttaccgttatcgatccggtcgaaaaactgctggcagtg...</td>\n",
       "      <td>70</td>\n",
       "      <td>abacaba</td>\n",
       "      <td>GCF_000008865.2</td>\n",
       "    </tr>\n",
       "    <tr>\n",
       "      <th>4</th>\n",
       "      <td>NC_002695.2</td>\n",
       "      <td>779</td>\n",
       "      <td>848</td>\n",
       "      <td>cacaacgttaccgttatcgatccggtcgaaaaactgctggcagtgg...</td>\n",
       "      <td>69</td>\n",
       "      <td>abacaba</td>\n",
       "      <td>GCF_000008865.2</td>\n",
       "    </tr>\n",
       "    <tr>\n",
       "      <th>...</th>\n",
       "      <td>...</td>\n",
       "      <td>...</td>\n",
       "      <td>...</td>\n",
       "      <td>...</td>\n",
       "      <td>...</td>\n",
       "      <td>...</td>\n",
       "      <td>...</td>\n",
       "    </tr>\n",
       "    <tr>\n",
       "      <th>201737</th>\n",
       "      <td>chrM</td>\n",
       "      <td>79579</td>\n",
       "      <td>79629</td>\n",
       "      <td>gttgaccacccgtaggtattgaagctgtacaacctaccgaattacc...</td>\n",
       "      <td>50</td>\n",
       "      <td>abacaba</td>\n",
       "      <td>sacCer3</td>\n",
       "    </tr>\n",
       "    <tr>\n",
       "      <th>201738</th>\n",
       "      <td>chrM</td>\n",
       "      <td>79649</td>\n",
       "      <td>79700</td>\n",
       "      <td>atcttctggtgctactgtaacttatagtcatcatgccttaatcgca...</td>\n",
       "      <td>51</td>\n",
       "      <td>abacaba</td>\n",
       "      <td>sacCer3</td>\n",
       "    </tr>\n",
       "    <tr>\n",
       "      <th>201739</th>\n",
       "      <td>chrM</td>\n",
       "      <td>79650</td>\n",
       "      <td>79700</td>\n",
       "      <td>tcttctggtgctactgtaacttatagtcatcatgccttaatcgcag...</td>\n",
       "      <td>50</td>\n",
       "      <td>abacaba</td>\n",
       "      <td>sacCer3</td>\n",
       "    </tr>\n",
       "    <tr>\n",
       "      <th>201740</th>\n",
       "      <td>chrM</td>\n",
       "      <td>85047</td>\n",
       "      <td>85098</td>\n",
       "      <td>aattggttaacattttagggtcatgacctaattatatacgttcaaa...</td>\n",
       "      <td>51</td>\n",
       "      <td>abacaba</td>\n",
       "      <td>sacCer3</td>\n",
       "    </tr>\n",
       "    <tr>\n",
       "      <th>201741</th>\n",
       "      <td>chrM</td>\n",
       "      <td>85048</td>\n",
       "      <td>85098</td>\n",
       "      <td>attggttaacattttagggtcatgacctaattatatacgttcaaat...</td>\n",
       "      <td>50</td>\n",
       "      <td>abacaba</td>\n",
       "      <td>sacCer3</td>\n",
       "    </tr>\n",
       "  </tbody>\n",
       "</table>\n",
       "<p>116325263 rows × 7 columns</p>\n",
       "</div>"
      ],
      "text/plain": [
       "              seqID  start    end  \\\n",
       "0       NC_002695.2    373    423   \n",
       "1       NC_002695.2    776    848   \n",
       "2       NC_002695.2    777    848   \n",
       "3       NC_002695.2    778    848   \n",
       "4       NC_002695.2    779    848   \n",
       "...             ...    ...    ...   \n",
       "201737         chrM  79579  79629   \n",
       "201738         chrM  79649  79700   \n",
       "201739         chrM  79650  79700   \n",
       "201740         chrM  85047  85098   \n",
       "201741         chrM  85048  85098   \n",
       "\n",
       "                                                 sequence  length     type  \\\n",
       "0       cggtacatcagtggcaaatgcagaacgttttctgcgggttgccgat...      50  abacaba   \n",
       "1       ggtcacaacgttaccgttatcgatccggtcgaaaaactgctggcag...      72  abacaba   \n",
       "2       gtcacaacgttaccgttatcgatccggtcgaaaaactgctggcagt...      71  abacaba   \n",
       "3       tcacaacgttaccgttatcgatccggtcgaaaaactgctggcagtg...      70  abacaba   \n",
       "4       cacaacgttaccgttatcgatccggtcgaaaaactgctggcagtgg...      69  abacaba   \n",
       "...                                                   ...     ...      ...   \n",
       "201737  gttgaccacccgtaggtattgaagctgtacaacctaccgaattacc...      50  abacaba   \n",
       "201738  atcttctggtgctactgtaacttatagtcatcatgccttaatcgca...      51  abacaba   \n",
       "201739  tcttctggtgctactgtaacttatagtcatcatgccttaatcgcag...      50  abacaba   \n",
       "201740  aattggttaacattttagggtcatgacctaattatatacgttcaaa...      51  abacaba   \n",
       "201741  attggttaacattttagggtcatgacctaattatatacgttcaaat...      50  abacaba   \n",
       "\n",
       "               organism  \n",
       "0       GCF_000008865.2  \n",
       "1       GCF_000008865.2  \n",
       "2       GCF_000008865.2  \n",
       "3       GCF_000008865.2  \n",
       "4       GCF_000008865.2  \n",
       "...                 ...  \n",
       "201737          sacCer3  \n",
       "201738          sacCer3  \n",
       "201739          sacCer3  \n",
       "201740          sacCer3  \n",
       "201741          sacCer3  \n",
       "\n",
       "[116325263 rows x 7 columns]"
      ]
     },
     "execution_count": 15,
     "metadata": {},
     "output_type": "execute_result"
    }
   ],
   "source": [
    "df_all = []\n",
    "\n",
    "for species in tqdm(model_organisms):\n",
    "    df = pd.read_csv(model_organisms[species])\n",
    "    df.loc[:, \"organism\"] = species\n",
    "    df_all.append(df)\n",
    "    \n",
    "df_all = pd.concat(df_all, axis=0)\n",
    "df_all"
   ]
  },
  {
   "cell_type": "code",
   "execution_count": null,
   "id": "68be3c08-1248-41bf-98b0-b771cc2971ce",
   "metadata": {},
   "outputs": [],
   "source": []
  }
 ],
 "metadata": {
  "kernelspec": {
   "display_name": "Python 3 (ipykernel)",
   "language": "python",
   "name": "python3"
  },
  "language_info": {
   "codemirror_mode": {
    "name": "ipython",
    "version": 3
   },
   "file_extension": ".py",
   "mimetype": "text/x-python",
   "name": "python",
   "nbconvert_exporter": "python",
   "pygments_lexer": "ipython3",
   "version": "3.11.9"
  }
 },
 "nbformat": 4,
 "nbformat_minor": 5
}
