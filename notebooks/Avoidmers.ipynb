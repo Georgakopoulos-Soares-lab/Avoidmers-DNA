{
 "cells": [
  {
   "cell_type": "code",
   "execution_count": 2,
   "id": "c3495bbb-836b-4dba-ac78-316925f5f7e0",
   "metadata": {},
   "outputs": [
    {
     "name": "stderr",
     "output_type": "stream",
     "text": [
      "/home/nicol/miniconda3/envs/avoidmers/lib/python3.11/site-packages/dask/dataframe/__init__.py:42: FutureWarning: \n",
      "Dask dataframe query planning is disabled because dask-expr is not installed.\n",
      "\n",
      "You can install it with `pip install dask[dataframe]` or `conda install dask`.\n",
      "This will raise in a future version.\n",
      "\n",
      "  warnings.warn(msg, FutureWarning)\n"
     ]
    }
   ],
   "source": [
    "import pandas as pd\n",
    "from pathlib import Path\n",
    "import dask.dataframe as dd\n",
    "import warnings\n",
    "from tqdm import tqdm\n",
    "\n",
    "\n",
    "warnings.filterwarnings('ignore')"
   ]
  },
  {
   "cell_type": "code",
   "execution_count": 3,
   "id": "c30fe7b5-7721-4d32-924b-e2bc613b37ea",
   "metadata": {},
   "outputs": [],
   "source": [
    "path = Path(\"/storage/group/izg5139/default/DNA-Avoidmers/patterns/pattern_merged_abacaba\")"
   ]
  },
  {
   "cell_type": "code",
   "execution_count": 5,
   "id": "6b77b3d8-ea17-4db9-be2b-66b9abbc226d",
   "metadata": {},
   "outputs": [
    {
     "data": {
      "text/plain": [
       "[PosixPath('pattern_maximal_abacaba/chm13v2.0_abacaba_words_length_50_seq_chr8.maximal.txt'),\n",
       " PosixPath('pattern_maximal_abacaba/chm13v2.0_abacaba_words_length_50_seq_chr4.maximal.txt'),\n",
       " PosixPath('pattern_maximal_abacaba/chm13v2.0_abacaba_words_length_50_seq_chr12.maximal.txt'),\n",
       " PosixPath('pattern_maximal_abacaba/chm13v2.0_abacaba_words_length_50_seq_chr1.maximal.txt'),\n",
       " PosixPath('pattern_maximal_abacaba/chm13v2.0_abacaba_words_length_50_seq_chrX.maximal.txt'),\n",
       " PosixPath('pattern_maximal_abacaba/chm13v2.0_abacaba_words_length_50_seq_chr3.maximal.txt'),\n",
       " PosixPath('pattern_maximal_abacaba/chm13v2.0_abacaba_words_length_50_seq_chrM.maximal.txt'),\n",
       " PosixPath('pattern_maximal_abacaba/chm13v2.0_abacaba_words_length_50_seq_chr18.maximal.txt'),\n",
       " PosixPath('pattern_maximal_abacaba/chm13v2.0_abacaba_words_length_50_seq_chr16.maximal.txt'),\n",
       " PosixPath('pattern_maximal_abacaba/chm13v2.0_abacaba_words_length_50_seq_chr10.maximal.txt'),\n",
       " PosixPath('pattern_maximal_abacaba/chm13v2.0_abacaba_words_length_50_seq_chr7.maximal.txt'),\n",
       " PosixPath('pattern_maximal_abacaba/chm13v2.0_abacaba_words_length_50_seq_chr22.maximal.txt'),\n",
       " PosixPath('pattern_maximal_abacaba/chm13v2.0_abacaba_words_length_50_seq_chr6.maximal.txt'),\n",
       " PosixPath('pattern_maximal_abacaba/chm13v2.0_abacaba_words_length_50_seq_chr2.maximal.txt'),\n",
       " PosixPath('pattern_maximal_abacaba/chm13v2.0_abacaba_words_length_50_seq_chr9.maximal.txt'),\n",
       " PosixPath('pattern_maximal_abacaba/chm13v2.0_abacaba_words_length_50_seq_chr15.maximal.txt'),\n",
       " PosixPath('pattern_maximal_abacaba/chm13v2.0_abacaba_words_length_50_seq_chr17.maximal.txt'),\n",
       " PosixPath('pattern_maximal_abacaba/chm13v2.0_abacaba_words_length_50_seq_chr5.maximal.txt'),\n",
       " PosixPath('pattern_maximal_abacaba/chm13v2.0_abacaba_words_length_50_seq_chr19.maximal.txt'),\n",
       " PosixPath('pattern_maximal_abacaba/chm13v2.0_abacaba_words_length_50_seq_chr14.maximal.txt'),\n",
       " PosixPath('pattern_maximal_abacaba/chm13v2.0_abacaba_words_length_50_seq_chr20.maximal.txt'),\n",
       " PosixPath('pattern_maximal_abacaba/chm13v2.0_abacaba_words_length_50_seq_chr21.maximal.txt'),\n",
       " PosixPath('pattern_maximal_abacaba/chm13v2.0_abacaba_words_length_50_seq_chr13.maximal.txt'),\n",
       " PosixPath('pattern_maximal_abacaba/chm13v2.0_abacaba_words_length_50_seq_chrY.maximal.txt'),\n",
       " PosixPath('pattern_maximal_abacaba/chm13v2.0_abacaba_words_length_50_seq_chr11.maximal.txt')]"
      ]
     },
     "execution_count": 5,
     "metadata": {},
     "output_type": "execute_result"
    }
   ],
   "source": [
    "model_organisms = [f for f in Path(\"pattern_maximal_abacaba\").glob(\"*.maximal.txt\") if \"chm13\" in f.name]\n",
    "model_organisms"
   ]
  },
  {
   "cell_type": "code",
   "execution_count": 8,
   "id": "8790d74d-adb0-43b9-8455-308e3838b08e",
   "metadata": {
    "scrolled": true
   },
   "outputs": [
    {
     "name": "stderr",
     "output_type": "stream",
     "text": [
      "100%|███████████████████████████████████████████████████████████████████████████████████████████████████████████████████████████████████████████████████| 25/25 [00:05<00:00,  4.74it/s]\n"
     ]
    },
    {
     "data": {
      "text/html": [
       "<div>\n",
       "<style scoped>\n",
       "    .dataframe tbody tr th:only-of-type {\n",
       "        vertical-align: middle;\n",
       "    }\n",
       "\n",
       "    .dataframe tbody tr th {\n",
       "        vertical-align: top;\n",
       "    }\n",
       "\n",
       "    .dataframe thead th {\n",
       "        text-align: right;\n",
       "    }\n",
       "</style>\n",
       "<table border=\"1\" class=\"dataframe\">\n",
       "  <thead>\n",
       "    <tr style=\"text-align: right;\">\n",
       "      <th></th>\n",
       "      <th>seqID</th>\n",
       "      <th>start</th>\n",
       "      <th>end</th>\n",
       "      <th>sequence</th>\n",
       "      <th>length</th>\n",
       "      <th>type</th>\n",
       "    </tr>\n",
       "  </thead>\n",
       "  <tbody>\n",
       "    <tr>\n",
       "      <th>0</th>\n",
       "      <td>chr8</td>\n",
       "      <td>2692</td>\n",
       "      <td>2744</td>\n",
       "      <td>ctaactggtctctgaccttgattattaacggctgcaaccgggaaag...</td>\n",
       "      <td>52</td>\n",
       "      <td>abacaba</td>\n",
       "    </tr>\n",
       "    <tr>\n",
       "      <th>1</th>\n",
       "      <td>chr8</td>\n",
       "      <td>2721</td>\n",
       "      <td>2773</td>\n",
       "      <td>ggctgcaaccgggaaagattttattcaccgtcgatgcggccccgag...</td>\n",
       "      <td>52</td>\n",
       "      <td>abacaba</td>\n",
       "    </tr>\n",
       "    <tr>\n",
       "      <th>2</th>\n",
       "      <td>chr8</td>\n",
       "      <td>4032</td>\n",
       "      <td>4089</td>\n",
       "      <td>gcctcctgcaccacttaaagtcagagcgccagttattaatccccat...</td>\n",
       "      <td>57</td>\n",
       "      <td>abacaba</td>\n",
       "    </tr>\n",
       "    <tr>\n",
       "      <th>3</th>\n",
       "      <td>chr8</td>\n",
       "      <td>4624</td>\n",
       "      <td>4675</td>\n",
       "      <td>ctgacatttttattgcagtgaatgatgattggggcatcttaagaga...</td>\n",
       "      <td>51</td>\n",
       "      <td>abacaba</td>\n",
       "    </tr>\n",
       "    <tr>\n",
       "      <th>4</th>\n",
       "      <td>chr8</td>\n",
       "      <td>6142</td>\n",
       "      <td>6194</td>\n",
       "      <td>ttgatgttacttccaatcaaaagctaccatgcaattatttacataa...</td>\n",
       "      <td>52</td>\n",
       "      <td>abacaba</td>\n",
       "    </tr>\n",
       "    <tr>\n",
       "      <th>...</th>\n",
       "      <td>...</td>\n",
       "      <td>...</td>\n",
       "      <td>...</td>\n",
       "      <td>...</td>\n",
       "      <td>...</td>\n",
       "      <td>...</td>\n",
       "    </tr>\n",
       "    <tr>\n",
       "      <th>208289</th>\n",
       "      <td>chr11</td>\n",
       "      <td>135122238</td>\n",
       "      <td>135122288</td>\n",
       "      <td>gtctgtggccctgccatagaagcctgagttgatccacatgaaacca...</td>\n",
       "      <td>50</td>\n",
       "      <td>abacaba</td>\n",
       "    </tr>\n",
       "    <tr>\n",
       "      <th>208290</th>\n",
       "      <td>chr11</td>\n",
       "      <td>135122240</td>\n",
       "      <td>135122294</td>\n",
       "      <td>ctgtggccctgccatagaagcctgagttgatccacatgaaaccaac...</td>\n",
       "      <td>54</td>\n",
       "      <td>abacaba</td>\n",
       "    </tr>\n",
       "    <tr>\n",
       "      <th>208291</th>\n",
       "      <td>chr11</td>\n",
       "      <td>135122592</td>\n",
       "      <td>135122643</td>\n",
       "      <td>acagtgcctgggaagcacttggtaaatggcagctgtaattttgctc...</td>\n",
       "      <td>51</td>\n",
       "      <td>abacaba</td>\n",
       "    </tr>\n",
       "    <tr>\n",
       "      <th>208292</th>\n",
       "      <td>chr11</td>\n",
       "      <td>135122593</td>\n",
       "      <td>135122647</td>\n",
       "      <td>cagtgcctgggaagcacttggtaaatggcagctgtaattttgctct...</td>\n",
       "      <td>54</td>\n",
       "      <td>abacaba</td>\n",
       "    </tr>\n",
       "    <tr>\n",
       "      <th>208293</th>\n",
       "      <td>chr11</td>\n",
       "      <td>135125102</td>\n",
       "      <td>135125159</td>\n",
       "      <td>ggacaattcggggccgcatcgacggtgaataaaatccttcctcttt...</td>\n",
       "      <td>57</td>\n",
       "      <td>abacaba</td>\n",
       "    </tr>\n",
       "  </tbody>\n",
       "</table>\n",
       "<p>4651253 rows × 6 columns</p>\n",
       "</div>"
      ],
      "text/plain": [
       "        seqID      start        end  \\\n",
       "0        chr8       2692       2744   \n",
       "1        chr8       2721       2773   \n",
       "2        chr8       4032       4089   \n",
       "3        chr8       4624       4675   \n",
       "4        chr8       6142       6194   \n",
       "...       ...        ...        ...   \n",
       "208289  chr11  135122238  135122288   \n",
       "208290  chr11  135122240  135122294   \n",
       "208291  chr11  135122592  135122643   \n",
       "208292  chr11  135122593  135122647   \n",
       "208293  chr11  135125102  135125159   \n",
       "\n",
       "                                                 sequence  length     type  \n",
       "0       ctaactggtctctgaccttgattattaacggctgcaaccgggaaag...      52  abacaba  \n",
       "1       ggctgcaaccgggaaagattttattcaccgtcgatgcggccccgag...      52  abacaba  \n",
       "2       gcctcctgcaccacttaaagtcagagcgccagttattaatccccat...      57  abacaba  \n",
       "3       ctgacatttttattgcagtgaatgatgattggggcatcttaagaga...      51  abacaba  \n",
       "4       ttgatgttacttccaatcaaaagctaccatgcaattatttacataa...      52  abacaba  \n",
       "...                                                   ...     ...      ...  \n",
       "208289  gtctgtggccctgccatagaagcctgagttgatccacatgaaacca...      50  abacaba  \n",
       "208290  ctgtggccctgccatagaagcctgagttgatccacatgaaaccaac...      54  abacaba  \n",
       "208291  acagtgcctgggaagcacttggtaaatggcagctgtaattttgctc...      51  abacaba  \n",
       "208292  cagtgcctgggaagcacttggtaaatggcagctgtaattttgctct...      54  abacaba  \n",
       "208293  ggacaattcggggccgcatcgacggtgaataaaatccttcctcttt...      57  abacaba  \n",
       "\n",
       "[4651253 rows x 6 columns]"
      ]
     },
     "execution_count": 8,
     "metadata": {},
     "output_type": "execute_result"
    }
   ],
   "source": [
    "df_all = []\n",
    "\n",
    "for species in tqdm(model_organisms):\n",
    "    df = pd.read_csv(species)\n",
    "    df_all.append(df)\n",
    "    \n",
    "df_all = pd.concat(df_all, axis=0)\n",
    "df_all"
   ]
  },
  {
   "cell_type": "code",
   "execution_count": 127,
   "id": "a37d48a0-94d5-4976-a9b3-1691d11dbaeb",
   "metadata": {},
   "outputs": [],
   "source": [
    "import re\n",
    "aba_pattern = re.compile(r'(.+)(.+)\\1')\n",
    "sequences = set()\n",
    "def is_aba(x):\n",
    "    N = len(x)\n",
    "    if N <= 2:\n",
    "        return False\n",
    "        \n",
    "    return any(x[:i] == x[-i:] for i in range(1, (len(x)+1)//2))\n",
    "    \n",
    "def zimin_density(x):\n",
    "    total_aba = 0 \n",
    "    N = len(x)\n",
    "    total_s = N * (N+1) // 2\n",
    "    \n",
    "    for l in range(1, N+1):\n",
    "        for i in range(N-l+1):\n",
    "            chunk = x[i:i+l]\n",
    "            \n",
    "            # is_aba = re.search(aba_pattern, chunk)\n",
    "            if is_aba(chunk):\n",
    "                total_aba += 1\n",
    "                \n",
    "    return total_aba, total_s, total_aba / total_s"
   ]
  },
  {
   "cell_type": "code",
   "execution_count": 126,
   "id": "c37f8c9a-df90-4802-8ac5-0cca50633bd2",
   "metadata": {},
   "outputs": [
    {
     "data": {
      "text/plain": [
       "(3, 15, 0.2)"
      ]
     },
     "execution_count": 126,
     "metadata": {},
     "output_type": "execute_result"
    }
   ],
   "source": [
    "zimin_density(\"gatga\")"
   ]
  },
  {
   "cell_type": "code",
   "execution_count": 75,
   "id": "4485032c-ed8e-436f-9680-41006104c816",
   "metadata": {},
   "outputs": [],
   "source": [
    "df_all['sequence'].to_csv(\"zimin_sequences.txt\", header=None, index=False, mode=\"w\")"
   ]
  },
  {
   "cell_type": "code",
   "execution_count": 128,
   "id": "6115e04f-5d59-4e3d-bca1-0e41b1c60bf5",
   "metadata": {},
   "outputs": [
    {
     "name": "stderr",
     "output_type": "stream",
     "text": [
      "  0%|▎                                                                                                                                       | 12092/4651253 [00:20<2:13:38, 578.59it/s]\n"
     ]
    },
    {
     "ename": "KeyboardInterrupt",
     "evalue": "",
     "output_type": "error",
     "traceback": [
      "\u001b[0;31m---------------------------------------------------------------------------\u001b[0m",
      "\u001b[0;31mKeyboardInterrupt\u001b[0m                         Traceback (most recent call last)",
      "Cell \u001b[0;32mIn[128], line 5\u001b[0m\n\u001b[1;32m      3\u001b[0m \u001b[38;5;28;01mfor\u001b[39;00m _, row \u001b[38;5;129;01min\u001b[39;00m tqdm(df_all\u001b[38;5;241m.\u001b[39miterrows(), total\u001b[38;5;241m=\u001b[39mdf_all\u001b[38;5;241m.\u001b[39mshape[\u001b[38;5;241m0\u001b[39m]):\n\u001b[1;32m      4\u001b[0m     seq \u001b[38;5;241m=\u001b[39m row[\u001b[38;5;124m'\u001b[39m\u001b[38;5;124msequence\u001b[39m\u001b[38;5;124m'\u001b[39m]\n\u001b[0;32m----> 5\u001b[0m     den \u001b[38;5;241m=\u001b[39m \u001b[43mzimin_density\u001b[49m\u001b[43m(\u001b[49m\u001b[43mseq\u001b[49m\u001b[43m)\u001b[49m\n\u001b[1;32m      6\u001b[0m     total\u001b[38;5;241m.\u001b[39mupdate({seq: den})\n",
      "Cell \u001b[0;32mIn[127], line 21\u001b[0m, in \u001b[0;36mzimin_density\u001b[0;34m(x)\u001b[0m\n\u001b[1;32m     18\u001b[0m         chunk \u001b[38;5;241m=\u001b[39m x[i:i\u001b[38;5;241m+\u001b[39ml]\n\u001b[1;32m     20\u001b[0m         \u001b[38;5;66;03m# is_aba = re.search(aba_pattern, chunk)\u001b[39;00m\n\u001b[0;32m---> 21\u001b[0m         \u001b[38;5;28;01mif\u001b[39;00m \u001b[43mis_aba\u001b[49m\u001b[43m(\u001b[49m\u001b[43mchunk\u001b[49m\u001b[43m)\u001b[49m:\n\u001b[1;32m     22\u001b[0m             total_aba \u001b[38;5;241m+\u001b[39m\u001b[38;5;241m=\u001b[39m \u001b[38;5;241m1\u001b[39m\n\u001b[1;32m     24\u001b[0m \u001b[38;5;28;01mreturn\u001b[39;00m total_aba, total_s, total_aba \u001b[38;5;241m/\u001b[39m total_s\n",
      "Cell \u001b[0;32mIn[127], line 9\u001b[0m, in \u001b[0;36mis_aba\u001b[0;34m(x)\u001b[0m\n\u001b[1;32m      6\u001b[0m \u001b[38;5;28;01mif\u001b[39;00m N \u001b[38;5;241m<\u001b[39m\u001b[38;5;241m=\u001b[39m \u001b[38;5;241m2\u001b[39m:\n\u001b[1;32m      7\u001b[0m     \u001b[38;5;28;01mreturn\u001b[39;00m \u001b[38;5;28;01mFalse\u001b[39;00m\n\u001b[0;32m----> 9\u001b[0m \u001b[38;5;28;01mreturn\u001b[39;00m \u001b[38;5;28many\u001b[39m(x[:i] \u001b[38;5;241m==\u001b[39m x[\u001b[38;5;241m-\u001b[39mi:] \u001b[38;5;28;01mfor\u001b[39;00m i \u001b[38;5;129;01min\u001b[39;00m \u001b[38;5;28mrange\u001b[39m(\u001b[38;5;241m1\u001b[39m, (\u001b[38;5;28mlen\u001b[39m(x)\u001b[38;5;241m+\u001b[39m\u001b[38;5;241m1\u001b[39m)\u001b[38;5;241m/\u001b[39m\u001b[38;5;241m/\u001b[39m\u001b[38;5;241m2\u001b[39m))\n",
      "Cell \u001b[0;32mIn[127], line 9\u001b[0m, in \u001b[0;36m<genexpr>\u001b[0;34m(.0)\u001b[0m\n\u001b[1;32m      6\u001b[0m \u001b[38;5;28;01mif\u001b[39;00m N \u001b[38;5;241m<\u001b[39m\u001b[38;5;241m=\u001b[39m \u001b[38;5;241m2\u001b[39m:\n\u001b[1;32m      7\u001b[0m     \u001b[38;5;28;01mreturn\u001b[39;00m \u001b[38;5;28;01mFalse\u001b[39;00m\n\u001b[0;32m----> 9\u001b[0m \u001b[38;5;28;01mreturn\u001b[39;00m \u001b[38;5;28many\u001b[39m(x[:i] \u001b[38;5;241m==\u001b[39m x[\u001b[38;5;241m-\u001b[39mi:] \u001b[38;5;28;01mfor\u001b[39;00m i \u001b[38;5;129;01min\u001b[39;00m \u001b[38;5;28mrange\u001b[39m(\u001b[38;5;241m1\u001b[39m, (\u001b[38;5;28mlen\u001b[39m(x)\u001b[38;5;241m+\u001b[39m\u001b[38;5;241m1\u001b[39m)\u001b[38;5;241m/\u001b[39m\u001b[38;5;241m/\u001b[39m\u001b[38;5;241m2\u001b[39m))\n",
      "\u001b[0;31mKeyboardInterrupt\u001b[0m: "
     ]
    }
   ],
   "source": [
    "from tqdm import tqdm; total = {}\n",
    "\n",
    "for _, row in tqdm(df_all.iterrows(), total=df_all.shape[0]):\n",
    "    seq = row['sequence']\n",
    "    den = zimin_density(seq)\n",
    "    total.update({seq: den})"
   ]
  },
  {
   "cell_type": "code",
   "execution_count": 17,
   "id": "92ca93f7-b488-4d14-a15e-1677f2ce1915",
   "metadata": {},
   "outputs": [
    {
     "name": "stdout",
     "output_type": "stream",
     "text": [
      "120\n",
      "120\n"
     ]
    },
    {
     "data": {
      "text/plain": [
       "0.31666666666666665"
      ]
     },
     "execution_count": 17,
     "metadata": {},
     "output_type": "execute_result"
    }
   ],
   "source": [
    "zimin_density(\"agaggggaggggatt\")"
   ]
  },
  {
   "cell_type": "code",
   "execution_count": null,
   "id": "be3f9d18-18ec-4186-8400-46ad140f4f3e",
   "metadata": {},
   "outputs": [],
   "source": []
  },
  {
   "cell_type": "code",
   "execution_count": null,
   "id": "26a89f96-6a3b-4daa-936f-3ae43c27690c",
   "metadata": {},
   "outputs": [],
   "source": []
  },
  {
   "cell_type": "code",
   "execution_count": null,
   "id": "68be3c08-1248-41bf-98b0-b771cc2971ce",
   "metadata": {},
   "outputs": [],
   "source": [
    "!ls avoidmers_coverage_all"
   ]
  }
 ],
 "metadata": {
  "kernelspec": {
   "display_name": "Python 3 (ipykernel)",
   "language": "python",
   "name": "python3"
  },
  "language_info": {
   "codemirror_mode": {
    "name": "ipython",
    "version": 3
   },
   "file_extension": ".py",
   "mimetype": "text/x-python",
   "name": "python",
   "nbconvert_exporter": "python",
   "pygments_lexer": "ipython3",
   "version": "3.11.9"
  }
 },
 "nbformat": 4,
 "nbformat_minor": 5
}
